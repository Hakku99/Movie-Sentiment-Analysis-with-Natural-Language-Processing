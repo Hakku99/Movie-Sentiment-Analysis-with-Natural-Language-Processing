{
 "cells": [
  {
   "cell_type": "markdown",
   "metadata": {
    "id": "GVn-92RMp7ef"
   },
   "source": [
    "# **Mounting Google Drive**"
   ]
  },
  {
   "cell_type": "code",
   "execution_count": 1,
   "metadata": {
    "colab": {
     "base_uri": "https://localhost:8080/"
    },
    "executionInfo": {
     "elapsed": 1010,
     "status": "ok",
     "timestamp": 1611995981010,
     "user": {
      "displayName": "CHAN TING CHANG",
      "photoUrl": "",
      "userId": "02593485385465457435"
     },
     "user_tz": -480
    },
    "id": "Fz1uobR5p5hr",
    "outputId": "ef7567ed-8554-43c6-f7bd-c6a2d0999a55"
   },
   "outputs": [
    {
     "name": "stdout",
     "output_type": "stream",
     "text": [
      "Drive already mounted at /content/gdrive; to attempt to forcibly remount, call drive.mount(\"/content/gdrive\", force_remount=True).\n"
     ]
    }
   ],
   "source": [
    "from google.colab import drive \n",
    "drive.mount('/content/gdrive')"
   ]
  },
  {
   "cell_type": "markdown",
   "metadata": {
    "id": "DaHX0A8_7xel"
   },
   "source": [
    "# **Import necessary library and read data from dataset**"
   ]
  },
  {
   "cell_type": "code",
   "execution_count": 2,
   "metadata": {
    "colab": {
     "base_uri": "https://localhost:8080/"
    },
    "executionInfo": {
     "elapsed": 4349,
     "status": "ok",
     "timestamp": 1611995984361,
     "user": {
      "displayName": "CHAN TING CHANG",
      "photoUrl": "",
      "userId": "02593485385465457435"
     },
     "user_tz": -480
    },
    "id": "yW0TdX3q5e31",
    "outputId": "2bedebf5-c959-4978-e369-a1e583a0352f"
   },
   "outputs": [
    {
     "data": {
      "text/plain": [
       "(50000, 2)"
      ]
     },
     "execution_count": 2,
     "metadata": {
      "tags": []
     },
     "output_type": "execute_result"
    }
   ],
   "source": [
    "#import necessary library needed\n",
    "import pandas as pd\n",
    "import numpy as np\n",
    "import re\n",
    "import nltk\n",
    "from nltk.corpus import stopwords\n",
    "import matplotlib.pyplot as plt\n",
    "\n",
    "from numpy import array\n",
    "from keras.preprocessing.text import one_hot\n",
    "from keras.preprocessing.sequence import pad_sequences\n",
    "from keras.models import Sequential\n",
    "from keras.layers.core import Activation, Dropout, Dense\n",
    "from keras.layers import Flatten\n",
    "from keras.layers import GlobalMaxPooling1D\n",
    "from keras.layers.embeddings import Embedding\n",
    "from sklearn.model_selection import train_test_split\n",
    "from keras.preprocessing.text import Tokenizer\n",
    "\n",
    "#read data from google drive\n",
    "movie_reviews = pd.read_csv(\"/content/gdrive/Shared drives/Natural Language Processing/IMDB Dataset.csv\")\n",
    "\n",
    "#check if there is any null value\n",
    "movie_reviews.isnull().values.any()\n",
    "\n",
    "#to know the size of the dataset\n",
    "movie_reviews.shape"
   ]
  },
  {
   "cell_type": "code",
   "execution_count": 3,
   "metadata": {
    "colab": {
     "base_uri": "https://localhost:8080/",
     "height": 195
    },
    "executionInfo": {
     "elapsed": 4341,
     "status": "ok",
     "timestamp": 1611995984362,
     "user": {
      "displayName": "CHAN TING CHANG",
      "photoUrl": "",
      "userId": "02593485385465457435"
     },
     "user_tz": -480
    },
    "id": "Q_egxTfq5sfO",
    "outputId": "3b626ec8-1313-4430-915f-d9f2e953b8f4"
   },
   "outputs": [
    {
     "data": {
      "text/html": [
       "<div>\n",
       "<style scoped>\n",
       "    .dataframe tbody tr th:only-of-type {\n",
       "        vertical-align: middle;\n",
       "    }\n",
       "\n",
       "    .dataframe tbody tr th {\n",
       "        vertical-align: top;\n",
       "    }\n",
       "\n",
       "    .dataframe thead th {\n",
       "        text-align: right;\n",
       "    }\n",
       "</style>\n",
       "<table border=\"1\" class=\"dataframe\">\n",
       "  <thead>\n",
       "    <tr style=\"text-align: right;\">\n",
       "      <th></th>\n",
       "      <th>review</th>\n",
       "      <th>sentiment</th>\n",
       "    </tr>\n",
       "  </thead>\n",
       "  <tbody>\n",
       "    <tr>\n",
       "      <th>0</th>\n",
       "      <td>One of the other reviewers has mentioned that ...</td>\n",
       "      <td>positive</td>\n",
       "    </tr>\n",
       "    <tr>\n",
       "      <th>1</th>\n",
       "      <td>A wonderful little production. &lt;br /&gt;&lt;br /&gt;The...</td>\n",
       "      <td>positive</td>\n",
       "    </tr>\n",
       "    <tr>\n",
       "      <th>2</th>\n",
       "      <td>I thought this was a wonderful way to spend ti...</td>\n",
       "      <td>positive</td>\n",
       "    </tr>\n",
       "    <tr>\n",
       "      <th>3</th>\n",
       "      <td>Basically there's a family where a little boy ...</td>\n",
       "      <td>negative</td>\n",
       "    </tr>\n",
       "    <tr>\n",
       "      <th>4</th>\n",
       "      <td>Petter Mattei's \"Love in the Time of Money\" is...</td>\n",
       "      <td>positive</td>\n",
       "    </tr>\n",
       "  </tbody>\n",
       "</table>\n",
       "</div>"
      ],
      "text/plain": [
       "                                              review sentiment\n",
       "0  One of the other reviewers has mentioned that ...  positive\n",
       "1  A wonderful little production. <br /><br />The...  positive\n",
       "2  I thought this was a wonderful way to spend ti...  positive\n",
       "3  Basically there's a family where a little boy ...  negative\n",
       "4  Petter Mattei's \"Love in the Time of Money\" is...  positive"
      ]
     },
     "execution_count": 3,
     "metadata": {
      "tags": []
     },
     "output_type": "execute_result"
    }
   ],
   "source": [
    "#print a few example of the dataset\n",
    "movie_reviews.head()"
   ]
  },
  {
   "cell_type": "code",
   "execution_count": 4,
   "metadata": {
    "colab": {
     "base_uri": "https://localhost:8080/",
     "height": 102
    },
    "executionInfo": {
     "elapsed": 4330,
     "status": "ok",
     "timestamp": 1611995984363,
     "user": {
      "displayName": "CHAN TING CHANG",
      "photoUrl": "",
      "userId": "02593485385465457435"
     },
     "user_tz": -480
    },
    "id": "VmPBDTev5wrb",
    "outputId": "e5822361-6c05-4899-d4e6-ddac73f69f69"
   },
   "outputs": [
    {
     "data": {
      "application/vnd.google.colaboratory.intrinsic+json": {
       "type": "string"
      },
      "text/plain": [
       "\"Basically there's a family where a little boy (Jake) thinks there's a zombie in his closet & his parents are fighting all the time.<br /><br />This movie is slower than a soap opera... and suddenly, Jake decides to become Rambo and kill the zombie.<br /><br />OK, first of all when you're going to make a film you must Decide if its a thriller or a drama! As a drama the movie is watchable. Parents are divorcing & arguing like in real life. And then we have Jake with his closet which totally ruins all the film! I expected to see a BOOGEYMAN similar movie, and instead i watched a drama with some meaningless thriller spots.<br /><br />3 out of 10 just for the well playing parents & descent dialogs. As for the shots with Jake: just ignore them.\""
      ]
     },
     "execution_count": 4,
     "metadata": {
      "tags": []
     },
     "output_type": "execute_result"
    }
   ],
   "source": [
    "movie_reviews[\"review\"][3]"
   ]
  },
  {
   "cell_type": "code",
   "execution_count": 5,
   "metadata": {
    "colab": {
     "base_uri": "https://localhost:8080/",
     "height": 296
    },
    "executionInfo": {
     "elapsed": 4319,
     "status": "ok",
     "timestamp": 1611995984363,
     "user": {
      "displayName": "CHAN TING CHANG",
      "photoUrl": "",
      "userId": "02593485385465457435"
     },
     "user_tz": -480
    },
    "id": "gGNxY9dP5yOc",
    "outputId": "d8defc6e-19af-4e58-9dca-50ca0f765933"
   },
   "outputs": [
    {
     "data": {
      "text/plain": [
       "<matplotlib.axes._subplots.AxesSubplot at 0x7fd3981c9b00>"
      ]
     },
     "execution_count": 5,
     "metadata": {
      "tags": []
     },
     "output_type": "execute_result"
    },
    {
     "data": {
      "image/png": "[encoded data removed]",
      "text/plain": [
       "<Figure size 432x288 with 1 Axes>"
      ]
     },
     "metadata": {
      "needs_background": "light",
      "tags": []
     },
     "output_type": "display_data"
    }
   ],
   "source": [
    "import seaborn as sns\n",
    "\n",
    "sns.countplot(x='sentiment', data=movie_reviews)\n",
    "#plot out all data into postive and negative categories, it is quite balance, not biased to any category"
   ]
  },
  {
   "cell_type": "markdown",
   "metadata": {
    "id": "6tROaMtYeBQo"
   },
   "source": [
    "# **Data preprocessing**\n"
   ]
  },
  {
   "cell_type": "code",
   "execution_count": 6,
   "metadata": {
    "executionInfo": {
     "elapsed": 4311,
     "status": "ok",
     "timestamp": 1611995984364,
     "user": {
      "displayName": "CHAN TING CHANG",
      "photoUrl": "",
      "userId": "02593485385465457435"
     },
     "user_tz": -480
    },
    "id": "QK09QSbz51OS"
   },
   "outputs": [],
   "source": [
    "def preprocess_text(sen):\n",
    "    # Removing html tags\n",
    "    sentence = remove_tags(sen)\n",
    "\n",
    "    # Remove punctuations and numbers\n",
    "    sentence = re.sub('[^a-zA-Z]', ' ', sentence)\n",
    "\n",
    "    # Single character removal\n",
    "    sentence = re.sub(r\"\\s+[a-zA-Z]\\s+\", ' ', sentence)\n",
    "\n",
    "    # Removing multiple spaces\n",
    "    sentence = re.sub(r'\\s+', ' ', sentence)\n",
    "\n",
    "    return sentence"
   ]
  },
  {
   "cell_type": "code",
   "execution_count": 7,
   "metadata": {
    "executionInfo": {
     "elapsed": 4306,
     "status": "ok",
     "timestamp": 1611995984364,
     "user": {
      "displayName": "CHAN TING CHANG",
      "photoUrl": "",
      "userId": "02593485385465457435"
     },
     "user_tz": -480
    },
    "id": "qX2Ih_yt6DBL"
   },
   "outputs": [],
   "source": [
    "TAG_RE = re.compile(r'<[^>]+>')\n",
    "\n",
    "def remove_tags(text):\n",
    "    return TAG_RE.sub('', text)"
   ]
  },
  {
   "cell_type": "code",
   "execution_count": 8,
   "metadata": {
    "executionInfo": {
     "elapsed": 12368,
     "status": "ok",
     "timestamp": 1611995992432,
     "user": {
      "displayName": "CHAN TING CHANG",
      "photoUrl": "",
      "userId": "02593485385465457435"
     },
     "user_tz": -480
    },
    "id": "ssb6Z3pp6EmQ"
   },
   "outputs": [],
   "source": [
    "X = []\n",
    "sentences = list(movie_reviews['review'])\n",
    "for sen in sentences:\n",
    "    X.append(preprocess_text(sen))"
   ]
  },
  {
   "cell_type": "code",
   "execution_count": 9,
   "metadata": {
    "colab": {
     "base_uri": "https://localhost:8080/",
     "height": 0
    },
    "executionInfo": {
     "elapsed": 12362,
     "status": "ok",
     "timestamp": 1611995992434,
     "user": {
      "displayName": "CHAN TING CHANG",
      "photoUrl": "",
      "userId": "02593485385465457435"
     },
     "user_tz": -480
    },
    "id": "YppYjDYT6GEG",
    "outputId": "42bd7eaf-67ce-4cc8-f551-280f87932af6"
   },
   "outputs": [
    {
     "data": {
      "application/vnd.google.colaboratory.intrinsic+json": {
       "type": "string"
      },
      "text/plain": [
       "'Basically there a family where little boy Jake thinks there a zombie in his closet his parents are fighting all the time This movie is slower than soap opera and suddenly Jake decides to become Rambo and kill the zombie OK first of all when you re going to make film you must Decide if its thriller or drama As drama the movie is watchable Parents are divorcing arguing like in real life And then we have Jake with his closet which totally ruins all the film expected to see BOOGEYMAN similar movie and instead watched drama with some meaningless thriller spots out of just for the well playing parents descent dialogs As for the shots with Jake just ignore them '"
      ]
     },
     "execution_count": 9,
     "metadata": {
      "tags": []
     },
     "output_type": "execute_result"
    }
   ],
   "source": [
    "X[3]\n",
    "#print same sample, and this is different that the one above since all unwanted html tags are removed"
   ]
  },
  {
   "cell_type": "code",
   "execution_count": 10,
   "metadata": {
    "executionInfo": {
     "elapsed": 12354,
     "status": "ok",
     "timestamp": 1611995992435,
     "user": {
      "displayName": "CHAN TING CHANG",
      "photoUrl": "",
      "userId": "02593485385465457435"
     },
     "user_tz": -480
    },
    "id": "Gh4cei046JOk"
   },
   "outputs": [],
   "source": [
    "y = movie_reviews['sentiment']\n",
    "\n",
    "y = np.array(list(map(lambda x: 1 if x==\"positive\" else 0, y)))"
   ]
  },
  {
   "cell_type": "code",
   "execution_count": 11,
   "metadata": {
    "executionInfo": {
     "elapsed": 12350,
     "status": "ok",
     "timestamp": 1611995992437,
     "user": {
      "displayName": "CHAN TING CHANG",
      "photoUrl": "",
      "userId": "02593485385465457435"
     },
     "user_tz": -480
    },
    "id": "Zn7f5zKF6JvX"
   },
   "outputs": [],
   "source": [
    "#separate the data with ratio of 80:20\n",
    "X_train, X_test, y_train, y_test = train_test_split(X, y, test_size=0.20, random_state=42)\n"
   ]
  },
  {
   "cell_type": "code",
   "execution_count": 12,
   "metadata": {
    "executionInfo": {
     "elapsed": 22048,
     "status": "ok",
     "timestamp": 1611996002142,
     "user": {
      "displayName": "CHAN TING CHANG",
      "photoUrl": "",
      "userId": "02593485385465457435"
     },
     "user_tz": -480
    },
    "id": "rXyVKL1V6LSO"
   },
   "outputs": [],
   "source": [
    "#building a word to index dictionary\n",
    "tokenizer = Tokenizer(num_words=5000)\n",
    "tokenizer.fit_on_texts(X_train)\n",
    "\n",
    "X_train = tokenizer.texts_to_sequences(X_train)\n",
    "X_test = tokenizer.texts_to_sequences(X_test)"
   ]
  },
  {
   "cell_type": "code",
   "execution_count": 13,
   "metadata": {
    "executionInfo": {
     "elapsed": 22447,
     "status": "ok",
     "timestamp": 1611996002546,
     "user": {
      "displayName": "CHAN TING CHANG",
      "photoUrl": "",
      "userId": "02593485385465457435"
     },
     "user_tz": -480
    },
    "id": "OZDMUfqk6Nhl"
   },
   "outputs": [],
   "source": [
    "# Adding 1 because of reserved 0 index\n",
    "vocab_size = len(tokenizer.word_index) + 1\n",
    "\n",
    "maxlen = 100\n",
    "#set the maximum length of each list as 100, more than that will truncate, less than 100 will perform padding with 0\n",
    "\n",
    "X_train = pad_sequences(X_train, padding='post', maxlen=maxlen)\n",
    "X_test = pad_sequences(X_test, padding='post', maxlen=maxlen)"
   ]
  },
  {
   "cell_type": "code",
   "execution_count": 14,
   "metadata": {
    "executionInfo": {
     "elapsed": 31951,
     "status": "ok",
     "timestamp": 1611996012056,
     "user": {
      "displayName": "CHAN TING CHANG",
      "photoUrl": "",
      "userId": "02593485385465457435"
     },
     "user_tz": -480
    },
    "id": "H3fs4skc6Tex"
   },
   "outputs": [],
   "source": [
    "from numpy import array\n",
    "from numpy import asarray\n",
    "from numpy import zeros\n",
    "\n",
    "embeddings_dictionary = dict()\n",
    "glove_file = open('/content/gdrive/Shared drives/Natural Language Processing/glove.6B.100d.txt', encoding=\"utf8\")\n",
    "#glove is machine learning algorithm that use vector to represent word and this text file contains those words and its vector value\n",
    "#we want to create a dictionary that will contain words as keys and their corresponding embedding list as values. \n",
    "\n",
    "for line in glove_file:\n",
    "    records = line.split()\n",
    "    word = records[0]\n",
    "    vector_dimensions = asarray(records[1:], dtype='float32')\n",
    "    embeddings_dictionary [word] = vector_dimensions\n",
    "glove_file.close()"
   ]
  },
  {
   "cell_type": "code",
   "execution_count": 15,
   "metadata": {
    "executionInfo": {
     "elapsed": 31947,
     "status": "ok",
     "timestamp": 1611996012058,
     "user": {
      "displayName": "CHAN TING CHANG",
      "photoUrl": "",
      "userId": "02593485385465457435"
     },
     "user_tz": -480
    },
    "id": "BKmPaPDC6qYm"
   },
   "outputs": [],
   "source": [
    "embedding_matrix = zeros((vocab_size, 100))\n",
    "for word, index in tokenizer.word_index.items():\n",
    "    embedding_vector = embeddings_dictionary.get(word)\n",
    "    if embedding_vector is not None:\n",
    "        embedding_matrix[index] = embedding_vector\n",
    "\n",
    "#create an embedding matrix where each row number will correspond to the index of the word in the corpus"
   ]
  },
  {
   "cell_type": "markdown",
   "metadata": {
    "id": "9HqHtjAHf9yQ"
   },
   "source": [
    "# **Build Neural Network Layer**\n"
   ]
  },
  {
   "cell_type": "code",
   "execution_count": 16,
   "metadata": {
    "executionInfo": {
     "elapsed": 33158,
     "status": "ok",
     "timestamp": 1611996013275,
     "user": {
      "displayName": "CHAN TING CHANG",
      "photoUrl": "",
      "userId": "02593485385465457435"
     },
     "user_tz": -480
    },
    "id": "BgD-mCDZ7SAo"
   },
   "outputs": [],
   "source": [
    "from tensorflow.keras.layers import LSTM\n",
    "#RNN Layer\n",
    "model = Sequential()\n",
    "embedding_layer = Embedding(vocab_size, 100, weights=[embedding_matrix], input_length=maxlen , trainable=False)\n",
    "model.add(embedding_layer)\n",
    "model.add(LSTM(128)) #RNN, lstm\n",
    "\n",
    "model.add(Dense(1, activation='sigmoid'))\n",
    "model.compile(optimizer='adam', loss='binary_crossentropy', metrics=['acc'])"
   ]
  },
  {
   "cell_type": "code",
   "execution_count": 17,
   "metadata": {
    "colab": {
     "base_uri": "https://localhost:8080/"
    },
    "executionInfo": {
     "elapsed": 33155,
     "status": "ok",
     "timestamp": 1611996013280,
     "user": {
      "displayName": "CHAN TING CHANG",
      "photoUrl": "",
      "userId": "02593485385465457435"
     },
     "user_tz": -480
    },
    "id": "FRug-82D7Tzm",
    "outputId": "34a8009a-3703-4c30-e931-24d9364f253f"
   },
   "outputs": [
    {
     "name": "stdout",
     "output_type": "stream",
     "text": [
      "Model: \"sequential\"\n",
      "_________________________________________________________________\n",
      "Layer (type)                 Output Shape              Param #   \n",
      "=================================================================\n",
      "embedding (Embedding)        (None, 100, 100)          9254700   \n",
      "_________________________________________________________________\n",
      "lstm (LSTM)                  (None, 128)               117248    \n",
      "_________________________________________________________________\n",
      "dense (Dense)                (None, 1)                 129       \n",
      "=================================================================\n",
      "Total params: 9,372,077\n",
      "Trainable params: 117,377\n",
      "Non-trainable params: 9,254,700\n",
      "_________________________________________________________________\n",
      "None\n"
     ]
    }
   ],
   "source": [
    "print(model.summary())"
   ]
  },
  {
   "cell_type": "code",
   "execution_count": 18,
   "metadata": {
    "colab": {
     "base_uri": "https://localhost:8080/"
    },
    "executionInfo": {
     "elapsed": 51730,
     "status": "ok",
     "timestamp": 1611996031864,
     "user": {
      "displayName": "CHAN TING CHANG",
      "photoUrl": "",
      "userId": "02593485385465457435"
     },
     "user_tz": -480
    },
    "id": "h0--v4XB7ZB-",
    "outputId": "3847ba19-68c3-46c9-b266-4f473a16965f"
   },
   "outputs": [
    {
     "name": "stdout",
     "output_type": "stream",
     "text": [
      "Epoch 1/6\n",
      "250/250 [==============================] - 6s 13ms/step - loss: 0.6306 - acc: 0.6421 - val_loss: 0.4920 - val_acc: 0.7756\n",
      "Epoch 2/6\n",
      "250/250 [==============================] - 3s 10ms/step - loss: 0.4693 - acc: 0.7785 - val_loss: 0.4142 - val_acc: 0.8135\n",
      "Epoch 3/6\n",
      "250/250 [==============================] - 3s 10ms/step - loss: 0.4036 - acc: 0.8146 - val_loss: 0.3955 - val_acc: 0.8204\n",
      "Epoch 4/6\n",
      "250/250 [==============================] - 3s 10ms/step - loss: 0.3735 - acc: 0.8298 - val_loss: 0.3509 - val_acc: 0.8480\n",
      "Epoch 5/6\n",
      "250/250 [==============================] - 3s 10ms/step - loss: 0.3467 - acc: 0.8469 - val_loss: 0.3468 - val_acc: 0.8461\n",
      "Epoch 6/6\n",
      "250/250 [==============================] - 3s 10ms/step - loss: 0.3292 - acc: 0.8564 - val_loss: 0.3493 - val_acc: 0.8475\n"
     ]
    }
   ],
   "source": [
    "history = model.fit(X_train, y_train, batch_size=128, epochs=6, verbose=1, validation_split=0.2)\n"
   ]
  },
  {
   "cell_type": "code",
   "execution_count": 19,
   "metadata": {
    "colab": {
     "base_uri": "https://localhost:8080/"
    },
    "executionInfo": {
     "elapsed": 53072,
     "status": "ok",
     "timestamp": 1611996033216,
     "user": {
      "displayName": "CHAN TING CHANG",
      "photoUrl": "",
      "userId": "02593485385465457435"
     },
     "user_tz": -480
    },
    "id": "Kwhsi89y7coK",
    "outputId": "3d9a2ac6-dc5f-43fa-a068-4de3bcebefed"
   },
   "outputs": [
    {
     "name": "stdout",
     "output_type": "stream",
     "text": [
      "313/313 [==============================] - 1s 4ms/step - loss: 0.3486 - acc: 0.8473\n"
     ]
    }
   ],
   "source": [
    "score = model.evaluate(X_test, y_test, verbose=1)\n"
   ]
  },
  {
   "cell_type": "code",
   "execution_count": 20,
   "metadata": {
    "colab": {
     "base_uri": "https://localhost:8080/"
    },
    "executionInfo": {
     "elapsed": 53067,
     "status": "ok",
     "timestamp": 1611996033219,
     "user": {
      "displayName": "CHAN TING CHANG",
      "photoUrl": "",
      "userId": "02593485385465457435"
     },
     "user_tz": -480
    },
    "id": "3HSWXivO7gaf",
    "outputId": "c8a06174-af91-4932-9f9c-a296e2229f21"
   },
   "outputs": [
    {
     "name": "stdout",
     "output_type": "stream",
     "text": [
      "Test Score: 0.3486332893371582\n",
      "Test Accuracy: 0.8472999930381775\n"
     ]
    }
   ],
   "source": [
    "print(\"Test Score:\", score[0])\n",
    "print(\"Test Accuracy:\", score[1])"
   ]
  },
  {
   "cell_type": "code",
   "execution_count": 21,
   "metadata": {
    "colab": {
     "base_uri": "https://localhost:8080/",
     "height": 0
    },
    "executionInfo": {
     "elapsed": 53675,
     "status": "ok",
     "timestamp": 1611996033837,
     "user": {
      "displayName": "CHAN TING CHANG",
      "photoUrl": "",
      "userId": "02593485385465457435"
     },
     "user_tz": -480
    },
    "id": "6jh-4Nex7lJa",
    "outputId": "3e58370b-0cbd-4eb0-a93f-676abb038446"
   },
   "outputs": [
    {
     "data": {
      "image/png": "[encoded data removed]",
      "text/plain": [
       "<Figure size 432x288 with 1 Axes>"
      ]
     },
     "metadata": {
      "needs_background": "light",
      "tags": []
     },
     "output_type": "display_data"
    },
    {
     "data": {
      "image/png": "[encoded data removed]",
      "text/plain": [
       "<Figure size 432x288 with 1 Axes>"
      ]
     },
     "metadata": {
      "needs_background": "light",
      "tags": []
     },
     "output_type": "display_data"
    }
   ],
   "source": [
    "plt.plot(history.history['acc'])\n",
    "plt.plot(history.history['val_acc'])\n",
    "\n",
    "plt.title('model accuracy')\n",
    "plt.ylabel('accuracy')\n",
    "plt.xlabel('epoch')\n",
    "plt.legend(['train','test'], loc = 'upper left')\n",
    "plt.show()\n",
    "\n",
    "plt.plot(history.history['loss'])\n",
    "plt.plot(history.history['val_loss'])\n",
    "\n",
    "plt.title('model loss')\n",
    "plt.ylabel('loss')\n",
    "plt.xlabel('epoch')\n",
    "plt.legend(['train','test'], loc = 'upper left')\n",
    "plt.show()"
   ]
  },
  {
   "cell_type": "markdown",
   "metadata": {
    "id": "Nw3FWutKpXUe"
   },
   "source": [
    "# **Making prediction of an instance**\n"
   ]
  },
  {
   "cell_type": "code",
   "execution_count": 22,
   "metadata": {
    "colab": {
     "base_uri": "https://localhost:8080/"
    },
    "executionInfo": {
     "elapsed": 53667,
     "status": "ok",
     "timestamp": 1611996033838,
     "user": {
      "displayName": "CHAN TING CHANG",
      "photoUrl": "",
      "userId": "02593485385465457435"
     },
     "user_tz": -480
    },
    "id": "M42KeXq98M5b",
    "outputId": "4e7836a1-7522-45b9-9236-0c8539811281"
   },
   "outputs": [
    {
     "name": "stdout",
     "output_type": "stream",
     "text": [
      "What happened What we have here is basically solid and plausible premise and with decent and talented cast but somewhere the movie loses it Actually it never really got going There was little excitement when we find out that Angie is not really pregnant then find out that she is after all but that was it Steve Martin who is very talented person and usually brings lot to movie was dreadful and his entire character was not even close to being important to this movie other than to make it longer really would have liked to see more interactions between the main characters Kate and Angie and maybe try not for pure comedy which unfortunately it was not but maybe drama with comedic elements think if the movie did this it could have been very funny since both actresses are quite funny in their own ways and sitting here can think of numerous scenarios that would have been riot \n"
     ]
    }
   ],
   "source": [
    "instance = X[60]\n",
    "print(instance)"
   ]
  },
  {
   "cell_type": "code",
   "execution_count": 23,
   "metadata": {
    "colab": {
     "base_uri": "https://localhost:8080/"
    },
    "executionInfo": {
     "elapsed": 53662,
     "status": "ok",
     "timestamp": 1611996033840,
     "user": {
      "displayName": "CHAN TING CHANG",
      "photoUrl": "",
      "userId": "02593485385465457435"
     },
     "user_tz": -480
    },
    "id": "Sv-piQ36pmjB",
    "outputId": "d75c75ea-83d7-45b8-96cb-b4553997cd57"
   },
   "outputs": [
    {
     "data": {
      "text/plain": [
       "array([[0.33028442]], dtype=float32)"
      ]
     },
     "execution_count": 23,
     "metadata": {
      "tags": []
     },
     "output_type": "execute_result"
    }
   ],
   "source": [
    "instance = tokenizer.texts_to_sequences(instance)\n",
    "\n",
    "flat_list = []\n",
    "for sublist in instance:\n",
    "    for item in sublist:\n",
    "        flat_list.append(item)\n",
    "\n",
    "flat_list = [flat_list]\n",
    "\n",
    "instance = pad_sequences(flat_list, padding='post', maxlen=maxlen)\n",
    "\n",
    "model.predict(instance)"
   ]
  },
  {
   "cell_type": "code",
   "execution_count": 24,
   "metadata": {
    "colab": {
     "base_uri": "https://localhost:8080/",
     "height": 119
    },
    "executionInfo": {
     "elapsed": 53655,
     "status": "ok",
     "timestamp": 1611996033841,
     "user": {
      "displayName": "CHAN TING CHANG",
      "photoUrl": "",
      "userId": "02593485385465457435"
     },
     "user_tz": -480
    },
    "id": "PrCkVTE9pnK3",
    "outputId": "28ec85b4-497f-4368-a464-c7b4a0c9c565"
   },
   "outputs": [
    {
     "data": {
      "application/vnd.google.colaboratory.intrinsic+json": {
       "type": "string"
      },
      "text/plain": [
       "'What happened? What we have here is basically a solid and plausible premise and with a decent and talented cast, but somewhere the movie loses it. Actually, it never really got going. There was a little excitement when we find out that Angie is not really pregnant, then find out that she is after all, but that was it. Steve Martin, who is a very talented person and usually brings a lot to a movie, was dreadful and his entire character was not even close to being important to this movie, other than to make it longer. I really would have liked to see more interactions between the main characters, Kate and Angie, and maybe try not for a pure comedy, which unfortunately it was not, but maybe a drama with comedic elements. I think if the movie did this it could have been very funny since both actresses are quite funny in their own ways and sitting here I can think of numerous scenarios that would have been a riot.'"
      ]
     },
     "execution_count": 24,
     "metadata": {
      "tags": []
     },
     "output_type": "execute_result"
    }
   ],
   "source": [
    "movie_reviews[\"review\"][60]"
   ]
  },
  {
   "cell_type": "code",
   "execution_count": 25,
   "metadata": {
    "colab": {
     "base_uri": "https://localhost:8080/",
     "height": 35
    },
    "executionInfo": {
     "elapsed": 53646,
     "status": "ok",
     "timestamp": 1611996033842,
     "user": {
      "displayName": "CHAN TING CHANG",
      "photoUrl": "",
      "userId": "02593485385465457435"
     },
     "user_tz": -480
    },
    "id": "0bV0YuuvHCOC",
    "outputId": "cb8e938b-4a36-40ff-bcb4-f07d6dbe5169"
   },
   "outputs": [
    {
     "data": {
      "application/vnd.google.colaboratory.intrinsic+json": {
       "type": "string"
      },
      "text/plain": [
       "'negative'"
      ]
     },
     "execution_count": 25,
     "metadata": {
      "tags": []
     },
     "output_type": "execute_result"
    }
   ],
   "source": [
    "movie_reviews[\"sentiment\"][60]"
   ]
  },
  {
   "cell_type": "code",
   "execution_count": 25,
   "metadata": {
    "executionInfo": {
     "elapsed": 53638,
     "status": "ok",
     "timestamp": 1611996033843,
     "user": {
      "displayName": "CHAN TING CHANG",
      "photoUrl": "",
      "userId": "02593485385465457435"
     },
     "user_tz": -480
    },
    "id": "vH7NcHRsJ5r2"
   },
   "outputs": [],
   "source": []
  }
 ],
 "metadata": {
  "accelerator": "GPU",
  "colab": {
   "collapsed_sections": [],
   "machine_shape": "hm",
   "name": "TC_RNN.ipynb",
   "provenance": [
    {
     "file_id": "1GqZu6zmCy2vMNMZqO78DDuHvwv_9vJcp",
     "timestamp": 1597650782134
    },
    {
     "file_id": "1IzPbxNFQmmSYk9s14L4YjBfUgACn9mW2",
     "timestamp": 1593978024316
    },
    {
     "file_id": "1G7NKeneJNyRtcRxLVbbF9jYtRyuTOa-R",
     "timestamp": 1592749700622
    },
    {
     "file_id": "https://github.com/satyajitghana/TSAI-DeepVision-EVA4.0/blob/master/Utils/Colab_25GBRAM_GPU.ipynb",
     "timestamp": 1592043804148
    }
   ]
  },
  "kernelspec": {
   "display_name": "Python 3",
   "language": "python",
   "name": "python3"
  },
  "language_info": {
   "codemirror_mode": {
    "name": "ipython",
    "version": 3
   },
   "file_extension": ".py",
   "mimetype": "text/x-python",
   "name": "python",
   "nbconvert_exporter": "python",
   "pygments_lexer": "ipython3",
   "version": "3.7.0"
  }
 },
 "nbformat": 4,
 "nbformat_minor": 1
}
