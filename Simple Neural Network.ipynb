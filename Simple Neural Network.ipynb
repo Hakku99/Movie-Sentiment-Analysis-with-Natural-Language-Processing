{
 "cells": [
  {
   "cell_type": "markdown",
   "metadata": {
    "id": "GVn-92RMp7ef"
   },
   "source": [
    "# **Mounting Google Drive**"
   ]
  },
  {
   "cell_type": "code",
   "execution_count": 1,
   "metadata": {
    "colab": {
     "base_uri": "https://localhost:8080/"
    },
    "executionInfo": {
     "elapsed": 25616,
     "status": "ok",
     "timestamp": 1611989805249,
     "user": {
      "displayName": "CHUA JIAMING",
      "photoUrl": "",
      "userId": "11272294439660995965"
     },
     "user_tz": -480
    },
    "id": "Fz1uobR5p5hr",
    "outputId": "9ab1efc9-8d9e-49c4-c65b-9a0f56a0a562"
   },
   "outputs": [
    {
     "name": "stdout",
     "output_type": "stream",
     "text": [
      "Mounted at /content/gdrive\n"
     ]
    }
   ],
   "source": [
    "from google.colab import drive \n",
    "drive.mount('/content/gdrive')"
   ]
  },
  {
   "cell_type": "markdown",
   "metadata": {
    "id": "DaHX0A8_7xel"
   },
   "source": [
    "# **Import necessary library and read data from dataset**"
   ]
  },
  {
   "cell_type": "code",
   "execution_count": 2,
   "metadata": {
    "colab": {
     "base_uri": "https://localhost:8080/"
    },
    "executionInfo": {
     "elapsed": 31898,
     "status": "ok",
     "timestamp": 1611989811548,
     "user": {
      "displayName": "CHUA JIAMING",
      "photoUrl": "",
      "userId": "11272294439660995965"
     },
     "user_tz": -480
    },
    "id": "yW0TdX3q5e31",
    "outputId": "72a5c601-5e8b-4472-864e-147e76ebc6fa"
   },
   "outputs": [
    {
     "data": {
      "text/plain": [
       "(50000, 2)"
      ]
     },
     "execution_count": 2,
     "metadata": {
      "tags": []
     },
     "output_type": "execute_result"
    }
   ],
   "source": [
    "#import necessary library needed\n",
    "import pandas as pd\n",
    "import numpy as np\n",
    "import re\n",
    "import nltk\n",
    "from nltk.corpus import stopwords\n",
    "import matplotlib.pyplot as plt\n",
    "\n",
    "from numpy import array\n",
    "from keras.preprocessing.text import one_hot\n",
    "from keras.preprocessing.sequence import pad_sequences\n",
    "from keras.models import Sequential\n",
    "from keras.layers.core import Activation, Dropout, Dense\n",
    "from keras.layers import Flatten\n",
    "from keras.layers import GlobalMaxPooling1D\n",
    "from keras.layers.embeddings import Embedding\n",
    "from sklearn.model_selection import train_test_split\n",
    "from keras.preprocessing.text import Tokenizer\n",
    "\n",
    "#read data from google drive\n",
    "movie_reviews = pd.read_csv(\"/content/gdrive/Shared drives/Natural Language Processing/IMDB Dataset.csv\")\n",
    "\n",
    "#check if there is any null value\n",
    "movie_reviews.isnull().values.any()\n",
    "\n",
    "#to know the size of the dataset\n",
    "movie_reviews.shape"
   ]
  },
  {
   "cell_type": "code",
   "execution_count": 3,
   "metadata": {
    "colab": {
     "base_uri": "https://localhost:8080/",
     "height": 204
    },
    "executionInfo": {
     "elapsed": 31913,
     "status": "ok",
     "timestamp": 1611989811582,
     "user": {
      "displayName": "CHUA JIAMING",
      "photoUrl": "",
      "userId": "11272294439660995965"
     },
     "user_tz": -480
    },
    "id": "Q_egxTfq5sfO",
    "outputId": "074bbe89-7d08-431d-f8e6-16a8d19f696b"
   },
   "outputs": [
    {
     "data": {
      "text/html": [
       "<div>\n",
       "<style scoped>\n",
       "    .dataframe tbody tr th:only-of-type {\n",
       "        vertical-align: middle;\n",
       "    }\n",
       "\n",
       "    .dataframe tbody tr th {\n",
       "        vertical-align: top;\n",
       "    }\n",
       "\n",
       "    .dataframe thead th {\n",
       "        text-align: right;\n",
       "    }\n",
       "</style>\n",
       "<table border=\"1\" class=\"dataframe\">\n",
       "  <thead>\n",
       "    <tr style=\"text-align: right;\">\n",
       "      <th></th>\n",
       "      <th>review</th>\n",
       "      <th>sentiment</th>\n",
       "    </tr>\n",
       "  </thead>\n",
       "  <tbody>\n",
       "    <tr>\n",
       "      <th>0</th>\n",
       "      <td>One of the other reviewers has mentioned that ...</td>\n",
       "      <td>positive</td>\n",
       "    </tr>\n",
       "    <tr>\n",
       "      <th>1</th>\n",
       "      <td>A wonderful little production. &lt;br /&gt;&lt;br /&gt;The...</td>\n",
       "      <td>positive</td>\n",
       "    </tr>\n",
       "    <tr>\n",
       "      <th>2</th>\n",
       "      <td>I thought this was a wonderful way to spend ti...</td>\n",
       "      <td>positive</td>\n",
       "    </tr>\n",
       "    <tr>\n",
       "      <th>3</th>\n",
       "      <td>Basically there's a family where a little boy ...</td>\n",
       "      <td>negative</td>\n",
       "    </tr>\n",
       "    <tr>\n",
       "      <th>4</th>\n",
       "      <td>Petter Mattei's \"Love in the Time of Money\" is...</td>\n",
       "      <td>positive</td>\n",
       "    </tr>\n",
       "  </tbody>\n",
       "</table>\n",
       "</div>"
      ],
      "text/plain": [
       "                                              review sentiment\n",
       "0  One of the other reviewers has mentioned that ...  positive\n",
       "1  A wonderful little production. <br /><br />The...  positive\n",
       "2  I thought this was a wonderful way to spend ti...  positive\n",
       "3  Basically there's a family where a little boy ...  negative\n",
       "4  Petter Mattei's \"Love in the Time of Money\" is...  positive"
      ]
     },
     "execution_count": 3,
     "metadata": {
      "tags": []
     },
     "output_type": "execute_result"
    }
   ],
   "source": [
    "#print a few example of the dataset\n",
    "movie_reviews.head()"
   ]
  },
  {
   "cell_type": "code",
   "execution_count": 4,
   "metadata": {
    "colab": {
     "base_uri": "https://localhost:8080/",
     "height": 86
    },
    "executionInfo": {
     "elapsed": 31899,
     "status": "ok",
     "timestamp": 1611989811583,
     "user": {
      "displayName": "CHUA JIAMING",
      "photoUrl": "",
      "userId": "11272294439660995965"
     },
     "user_tz": -480
    },
    "id": "VmPBDTev5wrb",
    "outputId": "739a895b-d2e5-4b0c-cb36-21c9666b5cb9"
   },
   "outputs": [
    {
     "data": {
      "application/vnd.google.colaboratory.intrinsic+json": {
       "type": "string"
      },
      "text/plain": [
       "\"Basically there's a family where a little boy (Jake) thinks there's a zombie in his closet & his parents are fighting all the time.<br /><br />This movie is slower than a soap opera... and suddenly, Jake decides to become Rambo and kill the zombie.<br /><br />OK, first of all when you're going to make a film you must Decide if its a thriller or a drama! As a drama the movie is watchable. Parents are divorcing & arguing like in real life. And then we have Jake with his closet which totally ruins all the film! I expected to see a BOOGEYMAN similar movie, and instead i watched a drama with some meaningless thriller spots.<br /><br />3 out of 10 just for the well playing parents & descent dialogs. As for the shots with Jake: just ignore them.\""
      ]
     },
     "execution_count": 4,
     "metadata": {
      "tags": []
     },
     "output_type": "execute_result"
    }
   ],
   "source": [
    "movie_reviews[\"review\"][3]"
   ]
  },
  {
   "cell_type": "code",
   "execution_count": 5,
   "metadata": {
    "colab": {
     "base_uri": "https://localhost:8080/",
     "height": 296
    },
    "executionInfo": {
     "elapsed": 31887,
     "status": "ok",
     "timestamp": 1611989811588,
     "user": {
      "displayName": "CHUA JIAMING",
      "photoUrl": "",
      "userId": "11272294439660995965"
     },
     "user_tz": -480
    },
    "id": "gGNxY9dP5yOc",
    "outputId": "9770e56c-00b5-4b8b-99a8-1c80c4bbf206"
   },
   "outputs": [
    {
     "data": {
      "text/plain": [
       "<matplotlib.axes._subplots.AxesSubplot at 0x7f0b3c3f8ef0>"
      ]
     },
     "execution_count": 5,
     "metadata": {
      "tags": []
     },
     "output_type": "execute_result"
    },
    {
     "data": {
      "image/png": "[encoded data removed]",
      "text/plain": [
       "<Figure size 432x288 with 1 Axes>"
      ]
     },
     "metadata": {
      "needs_background": "light",
      "tags": []
     },
     "output_type": "display_data"
    }
   ],
   "source": [
    "import seaborn as sns\n",
    "\n",
    "sns.countplot(x='sentiment', data=movie_reviews)\n",
    "#plot out all data into postive and negative categories, it is quite balance, not biased to any category"
   ]
  },
  {
   "cell_type": "markdown",
   "metadata": {
    "id": "6tROaMtYeBQo"
   },
   "source": [
    "# **Data preprocessing**\n"
   ]
  },
  {
   "cell_type": "code",
   "execution_count": 6,
   "metadata": {
    "executionInfo": {
     "elapsed": 31886,
     "status": "ok",
     "timestamp": 1611989811590,
     "user": {
      "displayName": "CHUA JIAMING",
      "photoUrl": "",
      "userId": "11272294439660995965"
     },
     "user_tz": -480
    },
    "id": "QK09QSbz51OS"
   },
   "outputs": [],
   "source": [
    "def preprocess_text(sen):\n",
    "    # Removing html tags\n",
    "    sentence = remove_tags(sen)\n",
    "\n",
    "    # Remove punctuations and numbers\n",
    "    sentence = re.sub('[^a-zA-Z]', ' ', sentence)\n",
    "\n",
    "    # Single character removal\n",
    "    sentence = re.sub(r\"\\s+[a-zA-Z]\\s+\", ' ', sentence)\n",
    "\n",
    "    # Removing multiple spaces\n",
    "    sentence = re.sub(r'\\s+', ' ', sentence)\n",
    "\n",
    "    return sentence"
   ]
  },
  {
   "cell_type": "code",
   "execution_count": 7,
   "metadata": {
    "executionInfo": {
     "elapsed": 31885,
     "status": "ok",
     "timestamp": 1611989811592,
     "user": {
      "displayName": "CHUA JIAMING",
      "photoUrl": "",
      "userId": "11272294439660995965"
     },
     "user_tz": -480
    },
    "id": "qX2Ih_yt6DBL"
   },
   "outputs": [],
   "source": [
    "TAG_RE = re.compile(r'<[^>]+>')\n",
    "\n",
    "def remove_tags(text):\n",
    "    return TAG_RE.sub('', text)"
   ]
  },
  {
   "cell_type": "code",
   "execution_count": 8,
   "metadata": {
    "executionInfo": {
     "elapsed": 39055,
     "status": "ok",
     "timestamp": 1611989818767,
     "user": {
      "displayName": "CHUA JIAMING",
      "photoUrl": "",
      "userId": "11272294439660995965"
     },
     "user_tz": -480
    },
    "id": "ssb6Z3pp6EmQ"
   },
   "outputs": [],
   "source": [
    "X = []\n",
    "sentences = list(movie_reviews['review'])\n",
    "for sen in sentences:\n",
    "    X.append(preprocess_text(sen))"
   ]
  },
  {
   "cell_type": "code",
   "execution_count": 9,
   "metadata": {
    "colab": {
     "base_uri": "https://localhost:8080/",
     "height": 69
    },
    "executionInfo": {
     "elapsed": 39060,
     "status": "ok",
     "timestamp": 1611989818783,
     "user": {
      "displayName": "CHUA JIAMING",
      "photoUrl": "",
      "userId": "11272294439660995965"
     },
     "user_tz": -480
    },
    "id": "YppYjDYT6GEG",
    "outputId": "67e513af-bf2e-425f-8c59-d77ea0277d07"
   },
   "outputs": [
    {
     "data": {
      "application/vnd.google.colaboratory.intrinsic+json": {
       "type": "string"
      },
      "text/plain": [
       "'Basically there a family where little boy Jake thinks there a zombie in his closet his parents are fighting all the time This movie is slower than soap opera and suddenly Jake decides to become Rambo and kill the zombie OK first of all when you re going to make film you must Decide if its thriller or drama As drama the movie is watchable Parents are divorcing arguing like in real life And then we have Jake with his closet which totally ruins all the film expected to see BOOGEYMAN similar movie and instead watched drama with some meaningless thriller spots out of just for the well playing parents descent dialogs As for the shots with Jake just ignore them '"
      ]
     },
     "execution_count": 9,
     "metadata": {
      "tags": []
     },
     "output_type": "execute_result"
    }
   ],
   "source": [
    "X[3]\n",
    "#print same sample, and this is different that the one above since all unwanted html tags are removed"
   ]
  },
  {
   "cell_type": "code",
   "execution_count": 10,
   "metadata": {
    "executionInfo": {
     "elapsed": 39058,
     "status": "ok",
     "timestamp": 1611989818786,
     "user": {
      "displayName": "CHUA JIAMING",
      "photoUrl": "",
      "userId": "11272294439660995965"
     },
     "user_tz": -480
    },
    "id": "Gh4cei046JOk"
   },
   "outputs": [],
   "source": [
    "y = movie_reviews['sentiment']\n",
    "\n",
    "y = np.array(list(map(lambda x: 1 if x==\"positive\" else 0, y)))"
   ]
  },
  {
   "cell_type": "code",
   "execution_count": 11,
   "metadata": {
    "executionInfo": {
     "elapsed": 39058,
     "status": "ok",
     "timestamp": 1611989818789,
     "user": {
      "displayName": "CHUA JIAMING",
      "photoUrl": "",
      "userId": "11272294439660995965"
     },
     "user_tz": -480
    },
    "id": "Zn7f5zKF6JvX"
   },
   "outputs": [],
   "source": [
    "#separate the data with ratio of 80:20\n",
    "X_train, X_test, y_train, y_test = train_test_split(X, y, test_size=0.20, random_state=42)\n"
   ]
  },
  {
   "cell_type": "code",
   "execution_count": 12,
   "metadata": {
    "executionInfo": {
     "elapsed": 47887,
     "status": "ok",
     "timestamp": 1611989827620,
     "user": {
      "displayName": "CHUA JIAMING",
      "photoUrl": "",
      "userId": "11272294439660995965"
     },
     "user_tz": -480
    },
    "id": "rXyVKL1V6LSO"
   },
   "outputs": [],
   "source": [
    "#building a word to index dictionary\n",
    "tokenizer = Tokenizer(num_words=5000)\n",
    "tokenizer.fit_on_texts(X_train)\n",
    "\n",
    "X_train = tokenizer.texts_to_sequences(X_train)\n",
    "X_test = tokenizer.texts_to_sequences(X_test)"
   ]
  },
  {
   "cell_type": "code",
   "execution_count": 13,
   "metadata": {
    "executionInfo": {
     "elapsed": 48625,
     "status": "ok",
     "timestamp": 1611989828361,
     "user": {
      "displayName": "CHUA JIAMING",
      "photoUrl": "",
      "userId": "11272294439660995965"
     },
     "user_tz": -480
    },
    "id": "OZDMUfqk6Nhl"
   },
   "outputs": [],
   "source": [
    "# Adding 1 because of reserved 0 index\n",
    "vocab_size = len(tokenizer.word_index) + 1\n",
    "\n",
    "maxlen = 100\n",
    "#set the maximum length of each list as 100, more than that will truncate, less than 100 will perform padding with 0\n",
    "\n",
    "X_train = pad_sequences(X_train, padding='post', maxlen=maxlen)\n",
    "X_test = pad_sequences(X_test, padding='post', maxlen=maxlen)"
   ]
  },
  {
   "cell_type": "code",
   "execution_count": 14,
   "metadata": {
    "executionInfo": {
     "elapsed": 58127,
     "status": "ok",
     "timestamp": 1611989837866,
     "user": {
      "displayName": "CHUA JIAMING",
      "photoUrl": "",
      "userId": "11272294439660995965"
     },
     "user_tz": -480
    },
    "id": "H3fs4skc6Tex"
   },
   "outputs": [],
   "source": [
    "from numpy import array\n",
    "from numpy import asarray\n",
    "from numpy import zeros\n",
    "\n",
    "embeddings_dictionary = dict()\n",
    "glove_file = open('/content/gdrive/Shared drives/Natural Language Processing/glove.6B.100d.txt', encoding=\"utf8\")\n",
    "#glove is machine learning algorithm that use vector to represent word and this text file contains those words and its vector value\n",
    "#we want to create a dictionary that will contain words as keys and their corresponding embedding list as values. \n",
    "\n",
    "for line in glove_file:\n",
    "    records = line.split()\n",
    "    word = records[0]\n",
    "    vector_dimensions = asarray(records[1:], dtype='float32')\n",
    "    embeddings_dictionary [word] = vector_dimensions\n",
    "glove_file.close()"
   ]
  },
  {
   "cell_type": "code",
   "execution_count": 15,
   "metadata": {
    "executionInfo": {
     "elapsed": 58126,
     "status": "ok",
     "timestamp": 1611989837868,
     "user": {
      "displayName": "CHUA JIAMING",
      "photoUrl": "",
      "userId": "11272294439660995965"
     },
     "user_tz": -480
    },
    "id": "BKmPaPDC6qYm"
   },
   "outputs": [],
   "source": [
    "embedding_matrix = zeros((vocab_size, 100))\n",
    "for word, index in tokenizer.word_index.items():\n",
    "    embedding_vector = embeddings_dictionary.get(word)\n",
    "    if embedding_vector is not None:\n",
    "        embedding_matrix[index] = embedding_vector\n",
    "\n",
    "#create an embedding matrix where each row number will correspond to the index of the word in the corpus"
   ]
  },
  {
   "cell_type": "markdown",
   "metadata": {
    "id": "9HqHtjAHf9yQ"
   },
   "source": [
    "# **Build Neural Network Layer**\n"
   ]
  },
  {
   "cell_type": "code",
   "execution_count": 16,
   "metadata": {
    "executionInfo": {
     "elapsed": 64876,
     "status": "ok",
     "timestamp": 1611989844621,
     "user": {
      "displayName": "CHUA JIAMING",
      "photoUrl": "",
      "userId": "11272294439660995965"
     },
     "user_tz": -480
    },
    "id": "BgD-mCDZ7SAo"
   },
   "outputs": [],
   "source": [
    "#Simple Neural Network Layer\n",
    "model = Sequential()\n",
    "embedding_layer = Embedding(vocab_size, 100, weights=[embedding_matrix], input_length=maxlen , trainable=False)\n",
    "model.add(embedding_layer)\n",
    " \n",
    "model.add(Flatten())\n",
    "model.add(Dense(1, activation='sigmoid'))\n",
    "model.compile(optimizer='adam', loss='binary_crossentropy', metrics=['acc'])"
   ]
  },
  {
   "cell_type": "code",
   "execution_count": 17,
   "metadata": {
    "colab": {
     "base_uri": "https://localhost:8080/"
    },
    "executionInfo": {
     "elapsed": 64870,
     "status": "ok",
     "timestamp": 1611989844622,
     "user": {
      "displayName": "CHUA JIAMING",
      "photoUrl": "",
      "userId": "11272294439660995965"
     },
     "user_tz": -480
    },
    "id": "FRug-82D7Tzm",
    "outputId": "5a687fe8-c421-4b58-d024-061c4ed35e59"
   },
   "outputs": [
    {
     "name": "stdout",
     "output_type": "stream",
     "text": [
      "Model: \"sequential\"\n",
      "_________________________________________________________________\n",
      "Layer (type)                 Output Shape              Param #   \n",
      "=================================================================\n",
      "embedding (Embedding)        (None, 100, 100)          9254700   \n",
      "_________________________________________________________________\n",
      "flatten (Flatten)            (None, 10000)             0         \n",
      "_________________________________________________________________\n",
      "dense (Dense)                (None, 1)                 10001     \n",
      "=================================================================\n",
      "Total params: 9,264,701\n",
      "Trainable params: 10,001\n",
      "Non-trainable params: 9,254,700\n",
      "_________________________________________________________________\n",
      "None\n"
     ]
    }
   ],
   "source": [
    "print(model.summary())"
   ]
  },
  {
   "cell_type": "code",
   "execution_count": 18,
   "metadata": {
    "colab": {
     "base_uri": "https://localhost:8080/"
    },
    "executionInfo": {
     "elapsed": 72197,
     "status": "ok",
     "timestamp": 1611989851956,
     "user": {
      "displayName": "CHUA JIAMING",
      "photoUrl": "",
      "userId": "11272294439660995965"
     },
     "user_tz": -480
    },
    "id": "h0--v4XB7ZB-",
    "outputId": "4cd8c8d3-421e-4ca0-e56a-0addafd41917"
   },
   "outputs": [
    {
     "name": "stdout",
     "output_type": "stream",
     "text": [
      "Epoch 1/6\n",
      "250/250 [==============================] - 3s 5ms/step - loss: 0.6574 - acc: 0.6214 - val_loss: 0.5423 - val_acc: 0.7256\n",
      "Epoch 2/6\n",
      "250/250 [==============================] - 1s 3ms/step - loss: 0.4928 - acc: 0.7657 - val_loss: 0.5215 - val_acc: 0.7426\n",
      "Epoch 3/6\n",
      "250/250 [==============================] - 1s 3ms/step - loss: 0.4500 - acc: 0.7910 - val_loss: 0.5216 - val_acc: 0.7419\n",
      "Epoch 4/6\n",
      "250/250 [==============================] - 1s 3ms/step - loss: 0.4272 - acc: 0.8082 - val_loss: 0.5196 - val_acc: 0.7467\n",
      "Epoch 5/6\n",
      "250/250 [==============================] - 1s 3ms/step - loss: 0.4113 - acc: 0.8140 - val_loss: 0.5342 - val_acc: 0.7380\n",
      "Epoch 6/6\n",
      "250/250 [==============================] - 1s 4ms/step - loss: 0.3931 - acc: 0.8236 - val_loss: 0.5327 - val_acc: 0.7416\n"
     ]
    }
   ],
   "source": [
    "history = model.fit(X_train, y_train, batch_size=128, epochs=6, verbose=1, validation_split=0.2)\n"
   ]
  },
  {
   "cell_type": "code",
   "execution_count": 19,
   "metadata": {
    "colab": {
     "base_uri": "https://localhost:8080/"
    },
    "executionInfo": {
     "elapsed": 72872,
     "status": "ok",
     "timestamp": 1611989852638,
     "user": {
      "displayName": "CHUA JIAMING",
      "photoUrl": "",
      "userId": "11272294439660995965"
     },
     "user_tz": -480
    },
    "id": "Kwhsi89y7coK",
    "outputId": "50c5c3d9-2a49-4638-d277-347bd0c10626"
   },
   "outputs": [
    {
     "name": "stdout",
     "output_type": "stream",
     "text": [
      "313/313 [==============================] - 1s 2ms/step - loss: 0.5349 - acc: 0.7408\n"
     ]
    }
   ],
   "source": [
    "score = model.evaluate(X_test, y_test, verbose=1)\n"
   ]
  },
  {
   "cell_type": "code",
   "execution_count": 20,
   "metadata": {
    "colab": {
     "base_uri": "https://localhost:8080/"
    },
    "executionInfo": {
     "elapsed": 72868,
     "status": "ok",
     "timestamp": 1611989852640,
     "user": {
      "displayName": "CHUA JIAMING",
      "photoUrl": "",
      "userId": "11272294439660995965"
     },
     "user_tz": -480
    },
    "id": "3HSWXivO7gaf",
    "outputId": "cec618d2-b919-4ad0-921b-fe2b381eae5f"
   },
   "outputs": [
    {
     "name": "stdout",
     "output_type": "stream",
     "text": [
      "Test Score: 0.5349116325378418\n",
      "Test Accuracy: 0.7408000230789185\n"
     ]
    }
   ],
   "source": [
    "print(\"Test Score:\", score[0])\n",
    "print(\"Test Accuracy:\", score[1])"
   ]
  },
  {
   "cell_type": "code",
   "execution_count": 21,
   "metadata": {
    "colab": {
     "base_uri": "https://localhost:8080/",
     "height": 573
    },
    "executionInfo": {
     "elapsed": 73652,
     "status": "ok",
     "timestamp": 1611989853439,
     "user": {
      "displayName": "CHUA JIAMING",
      "photoUrl": "",
      "userId": "11272294439660995965"
     },
     "user_tz": -480
    },
    "id": "6jh-4Nex7lJa",
    "outputId": "ccabcb2b-1bf8-403c-8d06-2085843faa3c"
   },
   "outputs": [
    {
     "data": {
      "image/png": "[encoded data removed]",
      "text/plain": [
       "<Figure size 432x288 with 1 Axes>"
      ]
     },
     "metadata": {
      "needs_background": "light",
      "tags": []
     },
     "output_type": "display_data"
    },
    {
     "data": {
      "image/png": "[encoded data removed]",
      "text/plain": [
       "<Figure size 432x288 with 1 Axes>"
      ]
     },
     "metadata": {
      "needs_background": "light",
      "tags": []
     },
     "output_type": "display_data"
    }
   ],
   "source": [
    "plt.plot(history.history['acc'])\n",
    "plt.plot(history.history['val_acc'])\n",
    "\n",
    "plt.title('model accuracy')\n",
    "plt.ylabel('accuracy')\n",
    "plt.xlabel('epoch')\n",
    "plt.legend(['train','test'], loc = 'upper left')\n",
    "plt.show()\n",
    "\n",
    "plt.plot(history.history['loss'])\n",
    "plt.plot(history.history['val_loss'])\n",
    "\n",
    "plt.title('model loss')\n",
    "plt.ylabel('loss')\n",
    "plt.xlabel('epoch')\n",
    "plt.legend(['train','test'], loc = 'upper left')\n",
    "plt.show()"
   ]
  },
  {
   "cell_type": "markdown",
   "metadata": {
    "id": "Nw3FWutKpXUe"
   },
   "source": [
    "# **Making prediction of an instance**\n"
   ]
  },
  {
   "cell_type": "code",
   "execution_count": 22,
   "metadata": {
    "colab": {
     "base_uri": "https://localhost:8080/"
    },
    "executionInfo": {
     "elapsed": 73646,
     "status": "ok",
     "timestamp": 1611989853442,
     "user": {
      "displayName": "CHUA JIAMING",
      "photoUrl": "",
      "userId": "11272294439660995965"
     },
     "user_tz": -480
    },
    "id": "M42KeXq98M5b",
    "outputId": "67e0de13-3d6f-4bc6-e416-096483b100e3"
   },
   "outputs": [
    {
     "name": "stdout",
     "output_type": "stream",
     "text": [
      "What happened What we have here is basically solid and plausible premise and with decent and talented cast but somewhere the movie loses it Actually it never really got going There was little excitement when we find out that Angie is not really pregnant then find out that she is after all but that was it Steve Martin who is very talented person and usually brings lot to movie was dreadful and his entire character was not even close to being important to this movie other than to make it longer really would have liked to see more interactions between the main characters Kate and Angie and maybe try not for pure comedy which unfortunately it was not but maybe drama with comedic elements think if the movie did this it could have been very funny since both actresses are quite funny in their own ways and sitting here can think of numerous scenarios that would have been riot \n"
     ]
    }
   ],
   "source": [
    "instance = X[60]\n",
    "print(instance)"
   ]
  },
  {
   "cell_type": "code",
   "execution_count": 23,
   "metadata": {
    "colab": {
     "base_uri": "https://localhost:8080/"
    },
    "executionInfo": {
     "elapsed": 73641,
     "status": "ok",
     "timestamp": 1611989853444,
     "user": {
      "displayName": "CHUA JIAMING",
      "photoUrl": "",
      "userId": "11272294439660995965"
     },
     "user_tz": -480
    },
    "id": "Sv-piQ36pmjB",
    "outputId": "ef972cd9-f733-47bc-87ae-abec257bc53b"
   },
   "outputs": [
    {
     "data": {
      "text/plain": [
       "array([[0.99970824]], dtype=float32)"
      ]
     },
     "execution_count": 23,
     "metadata": {
      "tags": []
     },
     "output_type": "execute_result"
    }
   ],
   "source": [
    "instance = tokenizer.texts_to_sequences(instance)\n",
    "\n",
    "flat_list = []\n",
    "for sublist in instance:\n",
    "    for item in sublist:\n",
    "        flat_list.append(item)\n",
    "\n",
    "flat_list = [flat_list]\n",
    "\n",
    "instance = pad_sequences(flat_list, padding='post', maxlen=maxlen)\n",
    "\n",
    "model.predict(instance)"
   ]
  },
  {
   "cell_type": "code",
   "execution_count": 24,
   "metadata": {
    "colab": {
     "base_uri": "https://localhost:8080/",
     "height": 86
    },
    "executionInfo": {
     "elapsed": 73633,
     "status": "ok",
     "timestamp": 1611989853447,
     "user": {
      "displayName": "CHUA JIAMING",
      "photoUrl": "",
      "userId": "11272294439660995965"
     },
     "user_tz": -480
    },
    "id": "PrCkVTE9pnK3",
    "outputId": "6baa5b31-2723-4e3b-ff42-3720e35157d9"
   },
   "outputs": [
    {
     "data": {
      "application/vnd.google.colaboratory.intrinsic+json": {
       "type": "string"
      },
      "text/plain": [
       "'What happened? What we have here is basically a solid and plausible premise and with a decent and talented cast, but somewhere the movie loses it. Actually, it never really got going. There was a little excitement when we find out that Angie is not really pregnant, then find out that she is after all, but that was it. Steve Martin, who is a very talented person and usually brings a lot to a movie, was dreadful and his entire character was not even close to being important to this movie, other than to make it longer. I really would have liked to see more interactions between the main characters, Kate and Angie, and maybe try not for a pure comedy, which unfortunately it was not, but maybe a drama with comedic elements. I think if the movie did this it could have been very funny since both actresses are quite funny in their own ways and sitting here I can think of numerous scenarios that would have been a riot.'"
      ]
     },
     "execution_count": 24,
     "metadata": {
      "tags": []
     },
     "output_type": "execute_result"
    }
   ],
   "source": [
    "movie_reviews[\"review\"][60]"
   ]
  },
  {
   "cell_type": "code",
   "execution_count": 25,
   "metadata": {
    "colab": {
     "base_uri": "https://localhost:8080/",
     "height": 35
    },
    "executionInfo": {
     "elapsed": 73621,
     "status": "ok",
     "timestamp": 1611989853448,
     "user": {
      "displayName": "CHUA JIAMING",
      "photoUrl": "",
      "userId": "11272294439660995965"
     },
     "user_tz": -480
    },
    "id": "0bV0YuuvHCOC",
    "outputId": "3afe046f-b0d6-4be6-ff30-cdcd9aed9c2c"
   },
   "outputs": [
    {
     "data": {
      "application/vnd.google.colaboratory.intrinsic+json": {
       "type": "string"
      },
      "text/plain": [
       "'negative'"
      ]
     },
     "execution_count": 25,
     "metadata": {
      "tags": []
     },
     "output_type": "execute_result"
    }
   ],
   "source": [
    "movie_reviews[\"sentiment\"][60]"
   ]
  },
  {
   "cell_type": "code",
   "execution_count": 25,
   "metadata": {
    "executionInfo": {
     "elapsed": 73617,
     "status": "ok",
     "timestamp": 1611989853450,
     "user": {
      "displayName": "CHUA JIAMING",
      "photoUrl": "",
      "userId": "11272294439660995965"
     },
     "user_tz": -480
    },
    "id": "vH7NcHRsJ5r2"
   },
   "outputs": [],
   "source": []
  }
 ],
 "metadata": {
  "accelerator": "GPU",
  "colab": {
   "collapsed_sections": [],
   "machine_shape": "hm",
   "name": "Simple Neural Network.ipynb",
   "provenance": [
    {
     "file_id": "1GqZu6zmCy2vMNMZqO78DDuHvwv_9vJcp",
     "timestamp": 1597650782134
    },
    {
     "file_id": "1IzPbxNFQmmSYk9s14L4YjBfUgACn9mW2",
     "timestamp": 1593978024316
    },
    {
     "file_id": "1G7NKeneJNyRtcRxLVbbF9jYtRyuTOa-R",
     "timestamp": 1592749700622
    },
    {
     "file_id": "https://github.com/satyajitghana/TSAI-DeepVision-EVA4.0/blob/master/Utils/Colab_25GBRAM_GPU.ipynb",
     "timestamp": 1592043804148
    }
   ]
  },
  "kernelspec": {
   "display_name": "Python 3",
   "language": "python",
   "name": "python3"
  },
  "language_info": {
   "codemirror_mode": {
    "name": "ipython",
    "version": 3
   },
   "file_extension": ".py",
   "mimetype": "text/x-python",
   "name": "python",
   "nbconvert_exporter": "python",
   "pygments_lexer": "ipython3",
   "version": "3.7.0"
  }
 },
 "nbformat": 4,
 "nbformat_minor": 1
}
